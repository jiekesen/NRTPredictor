{
 "cells": [
  {
   "cell_type": "code",
   "execution_count": null,
   "id": "45dd18cf-6096-45ab-83c4-544583390178",
   "metadata": {},
   "outputs": [],
   "source": [
    "# In Jupyter notebooks and lab, you can see the documentation for a python function by hitting SHIFT + TAB. Hit it twice to expand the view."
   ]
  },
  {
   "cell_type": "markdown",
   "id": "dd50f1f0-119e-4a7e-a020-9613754f7b68",
   "metadata": {},
   "source": [
    "# This data can be found in the data folder."
   ]
  },
  {
   "cell_type": "code",
   "execution_count": 3,
   "id": "e26ce2c7-60f8-4708-ac3a-9b00f23ea6e3",
   "metadata": {},
   "outputs": [],
   "source": [
    "import pandas as pd\n",
    "import scanpy as sc\n",
    "import numpy as np"
   ]
  },
  {
   "cell_type": "code",
   "execution_count": 5,
   "id": "25590c4f-0ca8-4b0a-a6a8-52d132167c4c",
   "metadata": {},
   "outputs": [
    {
     "name": "stdout",
     "output_type": "stream",
     "text": [
      "scanpy==1.9.1 anndata==0.8.0 umap==0.5.3 numpy==1.21.6 scipy==1.7.3 pandas==1.3.5 scikit-learn==1.0.2 statsmodels==0.13.2 python-igraph==0.10.1 pynndescent==0.5.7\n"
     ]
    }
   ],
   "source": [
    "sc.settings.verbosity = 3             # verbosity: errors (0), warnings (1), info (2), hints (3)\n",
    "sc.logging.print_header()\n",
    "sc.settings.set_figure_params(dpi=80, facecolor='white')"
   ]
  },
  {
   "cell_type": "code",
   "execution_count": 6,
   "id": "4cee38b7-e3d8-4dba-b913-1f6407d00411",
   "metadata": {},
   "outputs": [],
   "source": []
  },
  {
   "cell_type": "code",
   "execution_count": null,
   "id": "03ed98eb-4202-4239-b608-f314b359463d",
   "metadata": {},
   "outputs": [],
   "source": [
    "##  read data (barcodes.tsv, genes.tsv and matrix.mtx)\n",
    "adata = sc.read_10x_mtx(\n",
    "    '/data/',  # the directory with the `.mtx` file\n",
    "    var_names='gene_symbols',                # use gene symbols for the variable names (variables-axis index)\n",
    "    cache=True)  "
   ]
  },
  {
   "cell_type": "code",
   "execution_count": null,
   "id": "556fd974-ded2-4ebf-ae49-bdc8265b1c2d",
   "metadata": {},
   "outputs": [],
   "source": []
  },
  {
   "cell_type": "code",
   "execution_count": null,
   "id": "1776a0a7-3eb8-4271-a011-f924e2532f7a",
   "metadata": {},
   "outputs": [],
   "source": [
    "## Converting data to Dataframe format\n",
    "\n",
    "data = adata.to_df()"
   ]
  },
  {
   "cell_type": "code",
   "execution_count": null,
   "id": "5bf13edc-aa35-46fa-92cc-c1f6c2397292",
   "metadata": {},
   "outputs": [],
   "source": []
  },
  {
   "cell_type": "code",
   "execution_count": 19,
   "id": "c9f092d1-a06c-4356-8255-059c5397a668",
   "metadata": {},
   "outputs": [],
   "source": [
    "## Read 110 marker genes (mark_gene.csv)\n",
    "\n",
    "mark_gene = pd.read_csv(\"/data/mark_gene.csv\")"
   ]
  },
  {
   "cell_type": "code",
   "execution_count": null,
   "id": "3b05e461-d422-449d-9b3b-d4f71c33ce9d",
   "metadata": {},
   "outputs": [],
   "source": []
  },
  {
   "cell_type": "code",
   "execution_count": 21,
   "id": "58892512-a0bc-42a3-92ed-5866901be0d3",
   "metadata": {},
   "outputs": [],
   "source": [
    "## Extraction of an expression matrix containing only 110 marker genes\n",
    "\n",
    "mark_data = data.loc[:, list(np.array(mark_gene).ravel())]"
   ]
  },
  {
   "cell_type": "code",
   "execution_count": null,
   "id": "d3e2e632-50f6-4b73-b72e-d2248bd9068d",
   "metadata": {},
   "outputs": [],
   "source": [
    "mark_data.to_csv(\"mark_data.csv\")"
   ]
  },
  {
   "cell_type": "code",
   "execution_count": null,
   "id": "13561cba-2fd3-4702-a1d1-f67f4bf9df6c",
   "metadata": {},
   "outputs": [],
   "source": []
  },
  {
   "cell_type": "code",
   "execution_count": 23,
   "id": "802391a6-edfa-4a62-a09c-83cfbb34b256",
   "metadata": {},
   "outputs": [],
   "source": [
    "## 10 randomly selected samples were used to test the webserver\n",
    "\n",
    "test_data = mark_data.sample(n=10, random_state=42)"
   ]
  },
  {
   "cell_type": "code",
   "execution_count": null,
   "id": "119f1ec3-5fa2-4ca9-b3ed-48503a203c9f",
   "metadata": {},
   "outputs": [],
   "source": [
    "test_data.to_csv(\"test_data.csv\")"
   ]
  },
  {
   "cell_type": "code",
   "execution_count": 31,
   "id": "ce617aa1-efa0-41ef-a3c9-681ca4fefc16",
   "metadata": {},
   "outputs": [],
   "source": []
  }
 ],
 "metadata": {
  "kernelspec": {
   "display_name": "Python [conda env:scanpy]",
   "language": "python",
   "name": "conda-env-scanpy-py"
  },
  "language_info": {
   "codemirror_mode": {
    "name": "ipython",
    "version": 3
   },
   "file_extension": ".py",
   "mimetype": "text/x-python",
   "name": "python",
   "nbconvert_exporter": "python",
   "pygments_lexer": "ipython3",
   "version": "3.7.13"
  }
 },
 "nbformat": 4,
 "nbformat_minor": 5
}
